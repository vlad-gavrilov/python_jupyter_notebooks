{
 "cells": [
  {
   "cell_type": "markdown",
   "metadata": {},
   "source": [
    "## Drawing"
   ]
  },
  {
   "cell_type": "markdown",
   "metadata": {},
   "source": [
    "Импорт библиотеки."
   ]
  },
  {
   "cell_type": "code",
   "execution_count": 1,
   "metadata": {},
   "outputs": [],
   "source": [
    "import cv2 as cv"
   ]
  },
  {
   "cell_type": "markdown",
   "metadata": {},
   "source": [
    "Загрузка изображения.  "
   ]
  },
  {
   "cell_type": "code",
   "execution_count": 2,
   "metadata": {},
   "outputs": [],
   "source": [
    "# img = cv.imread(\"media/lena.jpg\", cv.IMREAD_COLOR)\n",
    "\n",
    "import numpy as np\n",
    "img = np.zeros((512, 512, 3), np.uint8)"
   ]
  },
  {
   "cell_type": "markdown",
   "metadata": {},
   "source": [
    "Рисование геометрических фигур.\n",
    "Параметры:\n",
    "- изображение\n",
    "- координаты начала\n",
    "- координаты конца\n",
    "- цвет в формате BGR\n",
    "- ширина линии"
   ]
  },
  {
   "cell_type": "markdown",
   "metadata": {},
   "source": [
    "Рисование линии."
   ]
  },
  {
   "cell_type": "code",
   "execution_count": 3,
   "metadata": {},
   "outputs": [
    {
     "data": {
      "text/plain": [
       "32"
      ]
     },
     "execution_count": 3,
     "metadata": {},
     "output_type": "execute_result"
    }
   ],
   "source": [
    "img = cv.line(img, (10,50), (255,155), (0,255,0), 3)\n",
    "cv.imshow(\"image\", img)\n",
    "cv.waitKey(0)\n",
    "cv.destroyAllWindows()"
   ]
  },
  {
   "cell_type": "markdown",
   "metadata": {},
   "source": [
    "Рисование стрелки."
   ]
  },
  {
   "cell_type": "code",
   "execution_count": 4,
   "metadata": {},
   "outputs": [],
   "source": [
    "img = cv.arrowedLine(img, (0,0), (255,255), (127,0,0), 3)\n",
    "cv.imshow(\"image\", img)\n",
    "cv.waitKey(0)\n",
    "cv.destroyAllWindows()"
   ]
  },
  {
   "cell_type": "markdown",
   "metadata": {},
   "source": [
    "Рисование прямоугольника.  \n",
    "Если параметр ширины равен -1, то весь прямоугольник закрашивается указанным цветом."
   ]
  },
  {
   "cell_type": "code",
   "execution_count": 5,
   "metadata": {},
   "outputs": [],
   "source": [
    "img = cv.rectangle(img, (120, 200), (180, 300), (23,123,54), 5)\n",
    "cv.imshow(\"image\", img)\n",
    "cv.waitKey(0)\n",
    "cv.destroyAllWindows()"
   ]
  },
  {
   "cell_type": "markdown",
   "metadata": {},
   "source": [
    "Рисование круга.  \n",
    "Если параметр ширины равен -1, то весь круг закрашивается указанным цветом."
   ]
  },
  {
   "cell_type": "code",
   "execution_count": 6,
   "metadata": {},
   "outputs": [],
   "source": [
    "img = cv.circle(img, (125, 300), 50, (23,42,54), 5)\n",
    "cv.imshow(\"image\", img)\n",
    "cv.waitKey(0)\n",
    "cv.destroyAllWindows()"
   ]
  },
  {
   "cell_type": "markdown",
   "metadata": {},
   "source": [
    "Вывод текста на изображении.  \n",
    "Параметры:\n",
    "- изображение\n",
    "- текст\n",
    "- координаты начала\n",
    "- шрифт\n",
    "- размер шрифта\n",
    "- цвет шрифта\n",
    "- толщина шрифта\n",
    "- тип линии"
   ]
  },
  {
   "cell_type": "code",
   "execution_count": 7,
   "metadata": {},
   "outputs": [],
   "source": [
    "font = cv.FONT_HERSHEY_SCRIPT_SIMPLEX\n",
    "img = cv.putText(img, \"Sample text\", (10, 500), font, 3, (30, 30, 30), 10, cv.LINE_AA)\n",
    "cv.imshow(\"image\", img)\n",
    "cv.waitKey(0)\n",
    "cv.destroyAllWindows()"
   ]
  }
 ],
 "metadata": {
  "kernelspec": {
   "display_name": "Python 3",
   "language": "python",
   "name": "python3"
  },
  "language_info": {
   "codemirror_mode": {
    "name": "ipython",
    "version": 3
   },
   "file_extension": ".py",
   "mimetype": "text/x-python",
   "name": "python",
   "nbconvert_exporter": "python",
   "pygments_lexer": "ipython3",
   "version": "3.7.3"
  }
 },
 "nbformat": 4,
 "nbformat_minor": 4
}
